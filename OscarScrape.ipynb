{
 "cells": [
  {
   "cell_type": "markdown",
   "metadata": {},
   "source": [
    "## Scrape Oscars webpages"
   ]
  },
  {
   "cell_type": "code",
   "execution_count": 1,
   "metadata": {
    "collapsed": false
   },
   "outputs": [],
   "source": [
    "'''\n",
    "Use BeautifulSoup to scrape the Oscars webpages.  We want to collect \n",
    "the names of all winning and nominated actors, actresses, and directors\n",
    "since 1950.\n",
    "'''\n",
    "import urllib2, cookielib\n",
    "from bs4 import BeautifulSoup\n",
    "import re\n",
    "import pickle\n",
    "from pprint import pprint\n",
    "#\n",
    "hdr = {\"User-Agent\": \"Mozilla/5.0 (Macintosh; Intel Mac OS X 10_10_2) \\\n",
    "AppleWebKit/537.36 (KHTML, like Gecko) Chrome/42.0.2311.90 Safari/537.36\"}\n",
    "base_url  = \"http://www.oscars.org/oscars/ceremonies/\"\n",
    "#\n",
    "all_years = {}\n",
    "for year in range(2015,1949,-1):\n",
    "    page_url = base_url+str(year)\n",
    "    print page_url\n",
    "    req = urllib2.Request(page_url,headers=hdr)\n",
    "    try:\n",
    "        page = urllib2.urlopen(req)\n",
    "    except urllib2.HTTPError, e:\n",
    "        print e.fp.read()\n",
    "    content   = page.read()\n",
    "    soup      = BeautifulSoup(content)\n",
    "    this_year = {}\n",
    "    award_category_list = soup.find_all(class_=\"view-grouping-header\")\n",
    "    for award_category in award_category_list:\n",
    "        if 'Actor' in award_category.text or 'Actress' in award_category.text or 'Directing' in award_category.text:\n",
    "            award_list = award_category.findNextSibling()\n",
    "            this_category = []\n",
    "            for item in award_list.text.split(\"\\n\"):\n",
    "                clean_item = item.strip()\n",
    "                if clean_item and 'Winner' not in clean_item and 'Nominees' not in clean_item:\n",
    "                    this_category.append(clean_item)\n",
    "            this_year[award_category.text] = this_category\n",
    "    all_years[year] = this_year\n",
    "#\n",
    "with open('oscars.pkl', 'w') as f:\n",
    "    pickle.dump(all_years, f)"
   ]
  },
  {
   "cell_type": "code",
   "execution_count": 86,
   "metadata": {
    "collapsed": false
   },
   "outputs": [],
   "source": [
    "'''\n",
    "Correct mistakes in the oscars dictionary that can be traced back \n",
    "to mistakes on the oscars webpage.\n",
    "'''\n",
    "with open('oscars.pkl', 'r') as f:\n",
    "    oscars_dict = pickle.load(f)\n",
    "#\n",
    "this_year = oscars_dict[1954]\n",
    "del this_year[\"The Actress\"]\n",
    "oscars_dict[1954] = this_year\n",
    "#\n",
    "this_year = oscars_dict[1985]\n",
    "awards = this_year[\"Directing\"]\n",
    "awards[4],awards[5] = awards[5],awards[4]\n",
    "this_year[\"Directing\"] = awards\n",
    "oscars_dict[1985] = this_year\n",
    "#\n",
    "this_year = oscars_dict[1987]\n",
    "awards = this_year[\"Directing\"]\n",
    "awards[7] = u'Roland Joff\\xe9'\n",
    "this_year[\"Directing\"] = awards\n",
    "oscars_dict[1987] = this_year\n",
    "#\n",
    "this_year = oscars_dict[1988]\n",
    "awards = this_year[\"Directing\"]\n",
    "awards[9] = u'Lasse Hallstr\\xf6m'\n",
    "this_year[\"Directing\"] = awards\n",
    "oscars_dict[1988] = this_year\n",
    "#\n",
    "this_year = oscars_dict[1990]\n",
    "awards = this_year[\"Actor in a Leading Role\"]\n",
    "awards[0] = u'Daniel Day-Lewis'\n",
    "this_year[\"Actor in a Leading Role\"] = awards\n",
    "oscars_dict[1990] = this_year\n",
    "#\n",
    "this_year = oscars_dict[2007]\n",
    "awards = this_year[\"Directing\"]\n",
    "awards[5] = u'Alejandro G. I\\xf1\\xe1rritu'\n",
    "this_year[\"Directing\"] = awards\n",
    "oscars_dict[2007] = this_year\n",
    "#\n",
    "this_year = oscars_dict[2008]\n",
    "awards = this_year[\"Directing\"]\n",
    "awards[1] = u'Joel Coen, Ethan Coen'\n",
    "this_year[\"Directing\"] = awards\n",
    "oscars_dict[2008] = this_year\n",
    "#\n",
    "this_year = oscars_dict[2011]\n",
    "awards = this_year[\"Directing\"]\n",
    "awards[3] = u'Joel Coen, Ethan Coen'\n",
    "this_year[\"Directing\"] = awards\n",
    "oscars_dict[2011] = this_year\n",
    "#\n",
    "this_year = oscars_dict[2012]\n",
    "awards = this_year[\"Actor in a Leading Role\"]\n",
    "awards[6],awards[7] = awards[7],awards[6]\n",
    "this_year[\"Actor in a Leading Role\"] = awards\n",
    "oscars_dict[2012] = this_year\n",
    "#\n",
    "# Finally, we swap the order of the (director,movie) values \n",
    "# for the \"Directing\" keys, so as to make them agree with the other keys.\n",
    "for year,this_year in oscars_dict.items():\n",
    "    awards = this_year[\"Directing\"]\n",
    "    for ind in range(0,len(awards),2):\n",
    "        awards[ind],awards[ind+1] = awards[ind+1],awards[ind]\n",
    "    this_year[\"Directing\"] = awards\n",
    "    oscars_dict[year] = this_year\n",
    "#\n",
    "with open('oscars_c1.pkl', 'w') as f:\n",
    "    pickle.dump(oscars_dict, f)"
   ]
  },
  {
   "cell_type": "code",
   "execution_count": 2,
   "metadata": {
    "collapsed": false
   },
   "outputs": [],
   "source": [
    "'''\n",
    "Check what we have.\n",
    "'''\n",
    "import pickle\n",
    "from pprint import pprint\n",
    "with open('oscars_c1.pkl', 'r') as f:\n",
    "    oscars_dict = pickle.load(f)\n",
    "pprint(oscars_dict[2012])"
   ]
  },
  {
   "cell_type": "code",
   "execution_count": 8,
   "metadata": {
    "collapsed": false
   },
   "outputs": [],
   "source": [
    "'''\n",
    "Using the (corrected) oscars dictionary, we now want to make \n",
    "a new dictionary keyed by Actor/Actress/Director name, and\n",
    "with values equal to [# of nominations, # of wins].\n",
    "'''\n",
    "with open('oscars_c1.pkl', 'r') as f:\n",
    "    oscars_dict = pickle.load(f)\n",
    "aad_dict = {}\n",
    "for year,this_year in oscars_dict.items():\n",
    "    for awards in this_year.values():\n",
    "        for ind in range(0,len(awards),2):\n",
    "            persons = awards[ind].split(\",\")\n",
    "            if len(persons) > 1:\n",
    "                if \"Jr.\" in persons[1]:\n",
    "                    persons = [awards[ind]]\n",
    "            for person1 in persons:\n",
    "                person = person1.strip()\n",
    "                if aad_dict.has_key(person):\n",
    "                    wins        = aad_dict[person][0]\n",
    "                    nominations = aad_dict[person][1]\n",
    "                    if ind:\n",
    "                        nominations.append(year)\n",
    "                    else:\n",
    "                        wins.append(year)\n",
    "                else:\n",
    "                    if ind:\n",
    "                        wins        = []\n",
    "                        nominations = [year]\n",
    "                    else:\n",
    "                        wins        = [year]\n",
    "                        nominations = []\n",
    "                aad_dict[person] = [wins,nominations]\n",
    "#pprint(aad_dict)\n",
    "with open('aad_oscars.pkl', 'w') as f:\n",
    "    pickle.dump(aad_dict, f)"
   ]
  },
  {
   "cell_type": "code",
   "execution_count": 22,
   "metadata": {
    "collapsed": false
   },
   "outputs": [
    {
     "name": "stdout",
     "output_type": "stream",
     "text": [
      "1. Meryl Streep (19): [[1980, 1983, 2012], [1979, 1982, 1984, 1986, 1988, 1989, 1991, 1996, 1999, 2000, 2003, 2007, 2009, 2010, 2014, 2015]]\n",
      "2. Jack Nicholson (12): [[1976, 1984, 1998], [1970, 1971, 1974, 1975, 1982, 1986, 1988, 1993, 2003]]\n",
      "3. Paul Newman (9): [[1987], [1959, 1962, 1964, 1968, 1982, 1983, 1995, 2003]]\n",
      "4. Peter O'Toole (8): [[], [1963, 1965, 1969, 1970, 1973, 1981, 1983, 2007]]\n",
      "5. Marlon Brando (8): [[1955, 1973], [1952, 1953, 1954, 1958, 1974, 1990]]\n"
     ]
    }
   ],
   "source": [
    "import pickle\n",
    "with open('aad_oscars.pkl', 'r') as f:\n",
    "    aad_dict = pickle.load(f)\n",
    "    \n",
    "OrderedList = sorted([[person,oscar] for person,oscar in aad_dict.items()],\\\n",
    "                     key=lambda x: len(x[1][0])+len(x[1][1]),reverse=True)\n",
    "for ind,[person,oscar] in enumerate(OrderedList[:5]):\n",
    "    print(\"%i. %s (%i): %s\" %(ind+1,person,len(oscar[0])+len(oscar[1]),oscar))"
   ]
  }
 ],
 "metadata": {
  "kernelspec": {
   "display_name": "Python 2",
   "language": "python",
   "name": "python2"
  },
  "language_info": {
   "codemirror_mode": {
    "name": "ipython",
    "version": 2
   },
   "file_extension": ".py",
   "mimetype": "text/x-python",
   "name": "python",
   "nbconvert_exporter": "python",
   "pygments_lexer": "ipython2",
   "version": "2.7.9"
  }
 },
 "nbformat": 4,
 "nbformat_minor": 0
}
